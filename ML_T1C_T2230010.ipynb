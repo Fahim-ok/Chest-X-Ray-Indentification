{
  "cells": [
    {
      "cell_type": "code",
      "execution_count": null,
      "metadata": {
        "_cell_guid": "b1076dfc-b9ad-4769-8c92-a6c4dae69d19",
        "_uuid": "8f2839f25d086af736a60e9eeb907d3b93b6e0e5",
        "execution": {
          "iopub.execute_input": "2023-06-21T11:01:56.272197Z",
          "iopub.status.busy": "2023-06-21T11:01:56.271722Z",
          "iopub.status.idle": "2023-06-21T11:01:56.697356Z",
          "shell.execute_reply": "2023-06-21T11:01:56.696126Z",
          "shell.execute_reply.started": "2023-06-21T11:01:56.272161Z"
        },
        "ExecuteTime": {
          "end_time": "2023-09-21T19:04:39.018415700Z",
          "start_time": "2023-09-21T19:04:38.997396900Z"
        },
        "id": "urEr5uHYrueF"
      },
      "outputs": [],
      "source": [
        "import numpy as np\n",
        "import pandas as pd\n",
        "import cv2 as cv\n",
        "import matplotlib.pyplot as plt\n",
        "import os\n",
        "import seaborn as sns\n",
        "import pickle\n",
        "import numpy as np\n",
        "from sklearn.metrics import accuracy_score, precision_score, recall_score, f1_score, roc_auc_score\n",
        "from sklearn.preprocessing import LabelBinarizer\n",
        "from sklearn.model_selection import train_test_split\n",
        "from sklearn.metrics import accuracy_score, classification_report, confusion_matrix\n"
      ]
    },
    {
      "cell_type": "code",
      "execution_count": null,
      "metadata": {
        "execution": {
          "iopub.execute_input": "2023-06-21T10:29:22.582865Z",
          "iopub.status.busy": "2023-06-21T10:29:22.582397Z",
          "iopub.status.idle": "2023-06-21T10:29:22.597699Z",
          "shell.execute_reply": "2023-06-21T10:29:22.595408Z",
          "shell.execute_reply.started": "2023-06-21T10:29:22.582827Z"
        },
        "ExecuteTime": {
          "end_time": "2023-09-21T19:04:39.978756300Z",
          "start_time": "2023-09-21T19:04:39.967755700Z"
        },
        "id": "Zg0ww6lcrueH"
      },
      "outputs": [],
      "source": [
        "class ImgProcessing:\n",
        "    def __init__(self):\n",
        "        pass\n",
        "\n",
        "    def CLAHE(self, img):\n",
        "        gray = cv.cvtColor(img, cv.COLOR_RGB2GRAY)\n",
        "        clahe = cv.createCLAHE(clipLimit=2.0, tileGridSize=(8,8))\n",
        "        return clahe.apply(gray)\n"
      ]
    },
    {
      "cell_type": "code",
      "execution_count": null,
      "metadata": {
        "execution": {
          "iopub.execute_input": "2023-06-21T10:31:43.195353Z",
          "iopub.status.busy": "2023-06-21T10:31:43.194931Z",
          "iopub.status.idle": "2023-06-21T10:31:43.213447Z",
          "shell.execute_reply": "2023-06-21T10:31:43.212560Z",
          "shell.execute_reply.started": "2023-06-21T10:31:43.195320Z"
        },
        "ExecuteTime": {
          "end_time": "2023-09-21T19:04:40.908852Z",
          "start_time": "2023-09-21T19:04:40.894855600Z"
        },
        "id": "GePytoklrueH"
      },
      "outputs": [],
      "source": [
        "image_size = 112\n",
        "batch_size = 8\n",
        "data_dir = r\"C:/Users/shorb/PycharmProjects/thesis/COVID-QU-Ex Edited/Train\"\n",
        "class_labels = os.listdir(data_dir)\n",
        "num_classes = len(class_labels)\n",
        "\n",
        "encoded_class_labels = {}\n",
        "for i in range(len(class_labels)):\n",
        "    encoded_class_labels[class_labels[i]] = i"
      ]
    },
    {
      "cell_type": "code",
      "execution_count": null,
      "metadata": {
        "execution": {
          "iopub.execute_input": "2023-06-21T10:31:47.834242Z",
          "iopub.status.busy": "2023-06-21T10:31:47.832850Z",
          "iopub.status.idle": "2023-06-21T10:32:04.251837Z",
          "shell.execute_reply": "2023-06-21T10:32:04.250659Z",
          "shell.execute_reply.started": "2023-06-21T10:31:47.834192Z"
        },
        "ExecuteTime": {
          "end_time": "2023-09-21T19:12:29.450998700Z",
          "start_time": "2023-09-21T19:12:00.696111200Z"
        },
        "id": "6vwsvhSFrueI"
      },
      "outputs": [],
      "source": [
        "class img_dataset:\n",
        "    def __init__(self, folder_name, labels, encode_labels_dict):\n",
        "\n",
        "        self.folder_name = 'C:/Users/shorb/PycharmProjects/thesis/COVID-QU-Ex Edited/{}'.format(folder_name)\n",
        "        self.labels = labels\n",
        "        self.encode_labels_dict = encode_labels_dict\n",
        "        self.filepath = []\n",
        "        self.df, self.data_shape, self.label_shape = None, None, None\n",
        "        self.prepro = ImgProcessing()\n",
        "\n",
        "\n",
        "    def load_dataset(self, grayscale=False, n_data=False):\n",
        "        data, classes = [], []\n",
        "        for label in self.labels:\n",
        "            label_folder = os.path.join(self.folder_name, label)\n",
        "            img_names = os.listdir(label_folder)# type string (e.g. 'abs12.jpg)\n",
        "            for img_name in img_names:\n",
        "                self.filepath.append(img_name)\n",
        "                img_path = os.path.join(label_folder, img_name)\n",
        "                img = cv.imread(img_path)\n",
        "                img = self.prepro.CLAHE(img)\n",
        "                data.append(cv.resize(img,(image_size,image_size)))\n",
        "                classes.append(self.encode_labels_dict[label])\n",
        "        self.df = pd.DataFrame({\"filepath\" : self.filepath, \"label\": classes})\n",
        "        data = np.array(data)\n",
        "        data = np.expand_dims(data, axis=-1)\n",
        "        data = np.repeat(data, 3, axis=-1)\n",
        "        classes = np.array(classes)\n",
        "        self.data_shape = data.shape\n",
        "        self.label_shape = classes.shape\n",
        "        return data, classes\n",
        "\n",
        "    def __str__(self) -> str:\n",
        "        return f\"Image Shape: {self.data_shape}\\nLabel Shape: {self.label_shape}\\nClasses: {self.labels}\"\n",
        "\n",
        "\n",
        "train = img_dataset(labels=class_labels, encode_labels_dict= encoded_class_labels, folder_name='Train')\n",
        "valid = img_dataset(labels=class_labels, encode_labels_dict= encoded_class_labels, folder_name='Val')\n",
        "\n",
        "\n",
        "\n",
        "X_train, Y_train = train.load_dataset(grayscale=False)\n",
        "X_valid, Y_valid = valid.load_dataset(grayscale=False)"
      ]
    },
    {
      "cell_type": "code",
      "execution_count": null,
      "metadata": {
        "execution": {
          "iopub.execute_input": "2023-06-21T10:32:09.439527Z",
          "iopub.status.busy": "2023-06-21T10:32:09.438927Z",
          "iopub.status.idle": "2023-06-21T10:32:09.492330Z",
          "shell.execute_reply": "2023-06-21T10:32:09.491034Z",
          "shell.execute_reply.started": "2023-06-21T10:32:09.439489Z"
        },
        "ExecuteTime": {
          "end_time": "2023-09-21T19:12:35.431124500Z",
          "start_time": "2023-09-21T19:12:35.162126300Z"
        },
        "id": "wCpaoFDwrueI",
        "outputId": "12d1deb8-cf69-42be-c259-50986d26ad8b"
      },
      "outputs": [
        {
          "name": "stdout",
          "output_type": "stream",
          "text": [
            "(21715, 37632) (21715,)\n",
            "(5417, 112, 112, 3) (5417,)\n",
            "Converted to 2D\n",
            "(21715, 37632) (21715,)\n",
            "(5417, 37632) (5417,)\n"
          ]
        }
      ],
      "source": [
        "print(X_train.shape, Y_train.shape)\n",
        "print(X_valid.shape, Y_valid.shape)\n",
        "\n",
        "# Convert images to numpy arrays\n",
        "X_train = np.array(X_train).reshape(len(X_train), -1)\n",
        "X_val = np.array(X_valid).reshape(len(X_valid), -1)\n",
        "\n",
        "# Convert labels to numpy arrays\n",
        "y_train = np.array(Y_train)\n",
        "y_val = np.array(Y_valid)\n",
        "\n",
        "print(\"Converted to 2D\")\n",
        "print(X_train.shape, y_train.shape)\n",
        "print(X_val.shape, y_val.shape)"
      ]
    },
    {
      "cell_type": "code",
      "execution_count": null,
      "metadata": {
        "execution": {
          "iopub.execute_input": "2023-06-21T11:02:04.028927Z",
          "iopub.status.busy": "2023-06-21T11:02:04.028469Z",
          "iopub.status.idle": "2023-06-21T11:02:04.042527Z",
          "shell.execute_reply": "2023-06-21T11:02:04.041113Z",
          "shell.execute_reply.started": "2023-06-21T11:02:04.028893Z"
        },
        "ExecuteTime": {
          "end_time": "2023-09-21T19:12:37.696448100Z",
          "start_time": "2023-09-21T19:12:37.683448400Z"
        },
        "id": "wbWKpT8irueJ"
      },
      "outputs": [],
      "source": [
        "l = []\n",
        "def store_metrics(Model, model, Y_test, y_pred):\n",
        "\n",
        "    # Calculate the accuracy of the classifier\n",
        "    accuracy = accuracy_score(Y_test, y_pred)\n",
        "\n",
        "    # Calculate precision, recall, and F1 score\n",
        "    precision = precision_score(Y_test, y_pred, average='macro')\n",
        "    recall = recall_score(Y_test, y_pred, average='macro')\n",
        "    f1 = f1_score(Y_test, y_pred, average='macro')\n",
        "\n",
        "    pred_prob = model.predict_proba(X_val)\n",
        "    auc_score = roc_auc_score(y_val, pred_prob, multi_class='ovr')\n",
        "\n",
        "    print(\"Accuracy:\", accuracy)\n",
        "    print(\"Precision:\", precision)\n",
        "    print(\"Recall:\", recall)\n",
        "    print(\"F1 Score:\", f1)\n",
        "    print(\"AUC Score:\", auc_score)\n",
        "\n",
        "    # Generate confusion matrix and classification report\n",
        "    confusion_ = confusion_matrix(Y_test, y_pred)\n",
        "    classification_= classification_report(Y_test, y_pred, target_names=class_labels)\n",
        "\n",
        "    ax= plt.subplot()\n",
        "    sns.heatmap(confusion_, ax=ax, square=True, annot=True, cmap='Blues', fmt='d', cbar=False)\n",
        "    # labels, title and ticks\n",
        "    ax.xaxis.set_ticklabels(class_labels); ax.yaxis.set_ticklabels(class_labels)\n",
        "\n",
        "    print(\"Confusion Matrix:\")\n",
        "    print(confusion_)\n",
        "    print(\"Classification Report:\")\n",
        "    print(classification_)\n",
        "\n",
        "    l.append([Model, accuracy, precision, recall, f1, auc_score, confusion_, classification_])"
      ]
    },
    {
      "cell_type": "markdown",
      "metadata": {
        "id": "kteKe5pwrueJ"
      },
      "source": [
        "## RandomForestClassifier"
      ]
    },
    {
      "cell_type": "code",
      "execution_count": null,
      "metadata": {
        "execution": {
          "iopub.execute_input": "2023-06-21T11:02:05.722184Z",
          "iopub.status.busy": "2023-06-21T11:02:05.721745Z",
          "iopub.status.idle": "2023-06-21T11:02:19.140071Z",
          "shell.execute_reply": "2023-06-21T11:02:19.138503Z",
          "shell.execute_reply.started": "2023-06-21T11:02:05.722151Z"
        },
        "ExecuteTime": {
          "end_time": "2023-09-21T19:17:22.183917800Z",
          "start_time": "2023-09-21T19:12:46.073104Z"
        },
        "id": "RXa0_fc_rueK",
        "outputId": "3670198d-5d10-484f-fdd6-03a968b31278"
      },
      "outputs": [
        {
          "name": "stdout",
          "output_type": "stream",
          "text": [
            "Accuracy: 0.793243492708141\n",
            "Precision: 0.7947472145422115\n",
            "Recall: 0.7915143206097482\n",
            "F1 Score: 0.7915322020458354\n",
            "AUC Score: 0.9239297152708889\n",
            "Confusion Matrix:\n",
            "[[1648   92  163]\n",
            " [ 238 1329  235]\n",
            " [ 214  178 1320]]\n",
            "Classification Report:\n",
            "              precision    recall  f1-score   support\n",
            "\n",
            "    COVID-19       0.78      0.87      0.82      1903\n",
            "   Non-COVID       0.83      0.74      0.78      1802\n",
            "      Normal       0.77      0.77      0.77      1712\n",
            "\n",
            "    accuracy                           0.79      5417\n",
            "   macro avg       0.79      0.79      0.79      5417\n",
            "weighted avg       0.79      0.79      0.79      5417\n",
            "\n"
          ]
        },
        {
          "data": {
            "text/plain": "<Figure size 640x480 with 1 Axes>",
            "image/png": "[encoded data removed]"
          },
          "metadata": {},
          "output_type": "display_data"
        }
      ],
      "source": [
        "from sklearn.ensemble import RandomForestClassifier\n",
        "\n",
        "random = RandomForestClassifier(n_estimators=100, random_state=42)\n",
        "random.fit(X_train, y_train)\n",
        "\n",
        "y_pred_random = random.predict(X_val)\n",
        "store_metrics(\"RandomForset\", random, y_val, y_pred_random)"
      ]
    },
    {
      "cell_type": "markdown",
      "metadata": {
        "id": "GU-XCqBwrueK"
      },
      "source": [
        "## KNeighborsClassifier"
      ]
    },
    {
      "cell_type": "code",
      "execution_count": null,
      "metadata": {
        "execution": {
          "iopub.execute_input": "2023-06-21T11:02:32.178819Z",
          "iopub.status.busy": "2023-06-21T11:02:32.177369Z",
          "iopub.status.idle": "2023-06-21T11:02:34.918238Z",
          "shell.execute_reply": "2023-06-21T11:02:34.916648Z",
          "shell.execute_reply.started": "2023-06-21T11:02:32.178721Z"
        },
        "ExecuteTime": {
          "end_time": "2023-09-21T19:18:42.863922100Z",
          "start_time": "2023-09-21T19:17:38.208862900Z"
        },
        "id": "HCEAP4asrueK",
        "outputId": "2960d6ad-f2c8-4ffa-ede9-a2422b7c06a3"
      },
      "outputs": [
        {
          "name": "stdout",
          "output_type": "stream",
          "text": [
            "Accuracy: 0.7323241646667897\n",
            "Precision: 0.7337892603220508\n",
            "Recall: 0.7310420141615737\n",
            "F1 Score: 0.7317502386406184\n",
            "AUC Score: 0.876048916302891\n",
            "Confusion Matrix:\n",
            "[[1469  246  188]\n",
            " [ 296 1300  206]\n",
            " [ 283  231 1198]]\n",
            "Classification Report:\n",
            "              precision    recall  f1-score   support\n",
            "\n",
            "    COVID-19       0.72      0.77      0.74      1903\n",
            "   Non-COVID       0.73      0.72      0.73      1802\n",
            "      Normal       0.75      0.70      0.73      1712\n",
            "\n",
            "    accuracy                           0.73      5417\n",
            "   macro avg       0.73      0.73      0.73      5417\n",
            "weighted avg       0.73      0.73      0.73      5417\n",
            "\n"
          ]
        },
        {
          "data": {
            "text/plain": "<Figure size 640x480 with 1 Axes>",
            "image/png": "[encoded data removed]"
          },
          "metadata": {},
          "output_type": "display_data"
        }
      ],
      "source": [
        "from sklearn.neighbors import KNeighborsClassifier\n",
        "\n",
        "knn = KNeighborsClassifier(n_neighbors=5)\n",
        "knn.fit(X_train, y_train)\n",
        "y_pred_knn = knn.predict(X_val)\n",
        "\n",
        "store_metrics(\"KNeighborsClassifier\", knn, y_val, y_pred_knn)"
      ]
    },
    {
      "cell_type": "markdown",
      "metadata": {
        "id": "CEaI4bWzrueK"
      },
      "source": [
        "## GradientBoostingClassifier"
      ]
    },
    {
      "cell_type": "code",
      "execution_count": null,
      "metadata": {
        "execution": {
          "iopub.execute_input": "2023-06-21T11:02:34.921237Z",
          "iopub.status.busy": "2023-06-21T11:02:34.920794Z",
          "iopub.status.idle": "2023-06-21T11:13:43.312160Z",
          "shell.execute_reply": "2023-06-21T11:13:43.310636Z",
          "shell.execute_reply.started": "2023-06-21T11:02:34.921202Z"
        },
        "ExecuteTime": {
          "end_time": "2023-09-21T19:46:40.633878Z",
          "start_time": "2023-09-21T19:19:20.960700500Z"
        },
        "id": "H_k73sbwrueK",
        "outputId": "d4214af0-576f-4997-9d78-43e66ceb46d8"
      },
      "outputs": [
        {
          "name": "stdout",
          "output_type": "stream",
          "text": [
            "Accuracy: 0.6424220047997047\n",
            "Precision: 0.6520041134371908\n",
            "Recall: 0.6394346681258493\n",
            "F1 Score: 0.6403583846374783\n",
            "AUC Score: 0.8242239413590223\n",
            "Confusion Matrix:\n",
            "[[1421  241  241]\n",
            " [ 495 1066  241]\n",
            " [ 481  238  993]]\n",
            "Classification Report:\n",
            "              precision    recall  f1-score   support\n",
            "\n",
            "    COVID-19       0.59      0.75      0.66      1903\n",
            "   Non-COVID       0.69      0.59      0.64      1802\n",
            "      Normal       0.67      0.58      0.62      1712\n",
            "\n",
            "    accuracy                           0.64      5417\n",
            "   macro avg       0.65      0.64      0.64      5417\n",
            "weighted avg       0.65      0.64      0.64      5417\n",
            "\n"
          ]
        },
        {
          "data": {
            "text/plain": "<Figure size 640x480 with 1 Axes>",
            "image/png": "[encoded data removed]"
          },
          "metadata": {},
          "output_type": "display_data"
        }
      ],
      "source": [
        "from sklearn.ensemble import GradientBoostingClassifier\n",
        "\n",
        "GRADIENT = GradientBoostingClassifier(n_estimators=5, random_state=42)\n",
        "GRADIENT.fit(X_train, y_train)\n",
        "\n",
        "y_pred_GRADIENT = GRADIENT.predict(X_val)\n",
        "store_metrics(\"GradientBoostingClassifier\", GRADIENT, y_val, y_pred_GRADIENT)"
      ]
    },
    {
      "cell_type": "markdown",
      "metadata": {
        "id": "ZeTAOCyLrueL"
      },
      "source": [
        "## AdaBoostClassifier"
      ]
    },
    {
      "cell_type": "code",
      "execution_count": null,
      "metadata": {
        "execution": {
          "iopub.execute_input": "2023-06-21T11:13:43.318978Z",
          "iopub.status.busy": "2023-06-21T11:13:43.317154Z",
          "iopub.status.idle": "2023-06-21T11:14:03.423339Z",
          "shell.execute_reply": "2023-06-21T11:14:03.422320Z",
          "shell.execute_reply.started": "2023-06-21T11:13:43.318853Z"
        },
        "ExecuteTime": {
          "end_time": "2023-09-21T19:50:33.863769400Z",
          "start_time": "2023-09-21T19:47:10.993337100Z"
        },
        "id": "uN8VEgA9rueL",
        "outputId": "6af5765b-c626-4510-d260-ecd22e39e5e7"
      },
      "outputs": [
        {
          "name": "stdout",
          "output_type": "stream",
          "text": [
            "Accuracy: 0.5272290935942403\n",
            "Precision: 0.5292159471205902\n",
            "Recall: 0.5285321725874463\n",
            "F1 Score: 0.5285420625781293\n",
            "AUC Score: 0.7010755205532666\n",
            "Confusion Matrix:\n",
            "[[ 972  523  408]\n",
            " [ 595  879  328]\n",
            " [ 432  275 1005]]\n",
            "Classification Report:\n",
            "              precision    recall  f1-score   support\n",
            "\n",
            "    COVID-19       0.49      0.51      0.50      1903\n",
            "   Non-COVID       0.52      0.49      0.51      1802\n",
            "      Normal       0.58      0.59      0.58      1712\n",
            "\n",
            "    accuracy                           0.53      5417\n",
            "   macro avg       0.53      0.53      0.53      5417\n",
            "weighted avg       0.53      0.53      0.53      5417\n",
            "\n"
          ]
        },
        {
          "data": {
            "text/plain": "<Figure size 640x480 with 1 Axes>",
            "image/png": "[encoded data removed]"
          },
          "metadata": {},
          "output_type": "display_data"
        }
      ],
      "source": [
        "from sklearn.ensemble import AdaBoostClassifier\n",
        "ADA = AdaBoostClassifier(n_estimators=5, random_state=42)\n",
        "ADA.fit(X_train, y_train)\n",
        "\n",
        "y_pred_ADA = ADA.predict(X_val)\n",
        "store_metrics(\"AdaBoostClassifier\", ADA, y_val, y_pred_ADA)"
      ]
    },
    {
      "cell_type": "markdown",
      "metadata": {
        "id": "nLsGNEa5rueL"
      },
      "source": [
        "## GaussianNB"
      ]
    },
    {
      "cell_type": "code",
      "execution_count": null,
      "metadata": {
        "execution": {
          "iopub.execute_input": "2023-06-21T11:14:03.426062Z",
          "iopub.status.busy": "2023-06-21T11:14:03.424676Z",
          "iopub.status.idle": "2023-06-21T11:14:07.222697Z",
          "shell.execute_reply": "2023-06-21T11:14:07.221189Z",
          "shell.execute_reply.started": "2023-06-21T11:14:03.426006Z"
        },
        "ExecuteTime": {
          "end_time": "2023-09-21T19:54:25.212407100Z",
          "start_time": "2023-09-21T19:54:09.940686Z"
        },
        "id": "n-op2C3rrueL",
        "outputId": "e57b6fbd-bdc4-4bee-9cc4-124c228293d5"
      },
      "outputs": [
        {
          "name": "stdout",
          "output_type": "stream",
          "text": [
            "Accuracy: 0.6189772937050028\n",
            "Precision: 0.6210544153644104\n",
            "Recall: 0.6212771966060942\n",
            "F1 Score: 0.6192746557815286\n",
            "AUC Score: 0.7376086486497101\n",
            "Confusion Matrix:\n",
            "[[1044  305  554]\n",
            " [ 375 1148  279]\n",
            " [ 297  254 1161]]\n",
            "Classification Report:\n",
            "              precision    recall  f1-score   support\n",
            "\n",
            "    COVID-19       0.61      0.55      0.58      1903\n",
            "   Non-COVID       0.67      0.64      0.65      1802\n",
            "      Normal       0.58      0.68      0.63      1712\n",
            "\n",
            "    accuracy                           0.62      5417\n",
            "   macro avg       0.62      0.62      0.62      5417\n",
            "weighted avg       0.62      0.62      0.62      5417\n",
            "\n"
          ]
        },
        {
          "data": {
            "text/plain": "<Figure size 640x480 with 1 Axes>",
            "image/png": "[encoded data removed]"
          },
          "metadata": {},
          "output_type": "display_data"
        }
      ],
      "source": [
        "from sklearn.naive_bayes import GaussianNB\n",
        "Gaussian = GaussianNB()\n",
        "Gaussian.fit(X_train, y_train)\n",
        "\n",
        "y_pred_Gaussian = Gaussian.predict(X_val)\n",
        "store_metrics(\"GaussianNB\", Gaussian, y_val, y_pred_Gaussian)"
      ]
    },
    {
      "cell_type": "code",
      "execution_count": null,
      "metadata": {
        "execution": {
          "iopub.execute_input": "2023-06-21T11:14:07.225994Z",
          "iopub.status.busy": "2023-06-21T11:14:07.225574Z",
          "iopub.status.idle": "2023-06-21T11:14:07.309628Z",
          "shell.execute_reply": "2023-06-21T11:14:07.308210Z",
          "shell.execute_reply.started": "2023-06-21T11:14:07.225960Z"
        },
        "ExecuteTime": {
          "end_time": "2023-09-21T19:54:28.510077500Z",
          "start_time": "2023-09-21T19:54:28.476078600Z"
        },
        "id": "zfKkqyz0rueL",
        "outputId": "b48b012e-1f45-4f0d-8808-e5db3b7466f3"
      },
      "outputs": [
        {
          "data": {
            "text/plain": "                            0         1         2         3         4  \\\n0                RandomForset  0.793243  0.794747  0.791514  0.791532   \n1        KNeighborsClassifier  0.732324  0.733789  0.731042  0.731750   \n2  GradientBoostingClassifier  0.642422  0.652004  0.639435  0.640358   \n3          AdaBoostClassifier  0.527229  0.529216  0.528532  0.528542   \n4                  GaussianNB  0.618977  0.621054  0.621277  0.619275   \n\n          5                                                  6  \\\n0  0.923930  [[1648, 92, 163], [238, 1329, 235], [214, 178,...   \n1  0.876049  [[1469, 246, 188], [296, 1300, 206], [283, 231...   \n2  0.824224  [[1421, 241, 241], [495, 1066, 241], [481, 238...   \n3  0.701076  [[972, 523, 408], [595, 879, 328], [432, 275, ...   \n4  0.737609  [[1044, 305, 554], [375, 1148, 279], [297, 254...   \n\n                                                   7  \n0                precision    recall  f1-score   ...  \n1                precision    recall  f1-score   ...  \n2                precision    recall  f1-score   ...  \n3                precision    recall  f1-score   ...  \n4                precision    recall  f1-score   ...  ",
            "text/html": "<div>\n<style scoped>\n    .dataframe tbody tr th:only-of-type {\n        vertical-align: middle;\n    }\n\n    .dataframe tbody tr th {\n        vertical-align: top;\n    }\n\n    .dataframe thead th {\n        text-align: right;\n    }\n</style>\n<table border=\"1\" class=\"dataframe\">\n  <thead>\n    <tr style=\"text-align: right;\">\n      <th></th>\n      <th>0</th>\n      <th>1</th>\n      <th>2</th>\n      <th>3</th>\n      <th>4</th>\n      <th>5</th>\n      <th>6</th>\n      <th>7</th>\n    </tr>\n  </thead>\n  <tbody>\n    <tr>\n      <th>0</th>\n      <td>RandomForset</td>\n      <td>0.793243</td>\n      <td>0.794747</td>\n      <td>0.791514</td>\n      <td>0.791532</td>\n      <td>0.923930</td>\n      <td>[[1648, 92, 163], [238, 1329, 235], [214, 178,...</td>\n      <td>precision    recall  f1-score   ...</td>\n    </tr>\n    <tr>\n      <th>1</th>\n      <td>KNeighborsClassifier</td>\n      <td>0.732324</td>\n      <td>0.733789</td>\n      <td>0.731042</td>\n      <td>0.731750</td>\n      <td>0.876049</td>\n      <td>[[1469, 246, 188], [296, 1300, 206], [283, 231...</td>\n      <td>precision    recall  f1-score   ...</td>\n    </tr>\n    <tr>\n      <th>2</th>\n      <td>GradientBoostingClassifier</td>\n      <td>0.642422</td>\n      <td>0.652004</td>\n      <td>0.639435</td>\n      <td>0.640358</td>\n      <td>0.824224</td>\n      <td>[[1421, 241, 241], [495, 1066, 241], [481, 238...</td>\n      <td>precision    recall  f1-score   ...</td>\n    </tr>\n    <tr>\n      <th>3</th>\n      <td>AdaBoostClassifier</td>\n      <td>0.527229</td>\n      <td>0.529216</td>\n      <td>0.528532</td>\n      <td>0.528542</td>\n      <td>0.701076</td>\n      <td>[[972, 523, 408], [595, 879, 328], [432, 275, ...</td>\n      <td>precision    recall  f1-score   ...</td>\n    </tr>\n    <tr>\n      <th>4</th>\n      <td>GaussianNB</td>\n      <td>0.618977</td>\n      <td>0.621054</td>\n      <td>0.621277</td>\n      <td>0.619275</td>\n      <td>0.737609</td>\n      <td>[[1044, 305, 554], [375, 1148, 279], [297, 254...</td>\n      <td>precision    recall  f1-score   ...</td>\n    </tr>\n  </tbody>\n</table>\n</div>"
          },
          "execution_count": 17,
          "metadata": {},
          "output_type": "execute_result"
        }
      ],
      "source": [
        "df = pd.DataFrame(l)\n",
        "df"
      ]
    },
    {
      "cell_type": "code",
      "execution_count": null,
      "metadata": {
        "execution": {
          "iopub.execute_input": "2023-06-21T11:14:07.311676Z",
          "iopub.status.busy": "2023-06-21T11:14:07.311286Z",
          "iopub.status.idle": "2023-06-21T11:14:07.325535Z",
          "shell.execute_reply": "2023-06-21T11:14:07.323791Z",
          "shell.execute_reply.started": "2023-06-21T11:14:07.311643Z"
        },
        "ExecuteTime": {
          "end_time": "2023-09-21T19:54:33.275521800Z",
          "start_time": "2023-09-21T19:54:33.250495900Z"
        },
        "id": "H1L2Y9WKrueL",
        "outputId": "395e2582-3b55-4e3f-f097-454b0eae1894"
      },
      "outputs": [
        {
          "name": "stdout",
          "output_type": "stream",
          "text": [
            "RandomForset\n",
            "0.793243492708141\n",
            "0.7947472145422115\n",
            "0.7915143206097482\n",
            "0.7915322020458354\n",
            "0.9239297152708889\n",
            "[[1648   92  163]\n",
            " [ 238 1329  235]\n",
            " [ 214  178 1320]]\n",
            "              precision    recall  f1-score   support\n",
            "\n",
            "    COVID-19       0.78      0.87      0.82      1903\n",
            "   Non-COVID       0.83      0.74      0.78      1802\n",
            "      Normal       0.77      0.77      0.77      1712\n",
            "\n",
            "    accuracy                           0.79      5417\n",
            "   macro avg       0.79      0.79      0.79      5417\n",
            "weighted avg       0.79      0.79      0.79      5417\n",
            "\n",
            "KNeighborsClassifier\n",
            "0.7323241646667897\n",
            "0.7337892603220508\n",
            "0.7310420141615737\n",
            "0.7317502386406184\n",
            "0.876048916302891\n",
            "[[1469  246  188]\n",
            " [ 296 1300  206]\n",
            " [ 283  231 1198]]\n",
            "              precision    recall  f1-score   support\n",
            "\n",
            "    COVID-19       0.72      0.77      0.74      1903\n",
            "   Non-COVID       0.73      0.72      0.73      1802\n",
            "      Normal       0.75      0.70      0.73      1712\n",
            "\n",
            "    accuracy                           0.73      5417\n",
            "   macro avg       0.73      0.73      0.73      5417\n",
            "weighted avg       0.73      0.73      0.73      5417\n",
            "\n",
            "GradientBoostingClassifier\n",
            "0.6424220047997047\n",
            "0.6520041134371908\n",
            "0.6394346681258493\n",
            "0.6403583846374783\n",
            "0.8242239413590223\n",
            "[[1421  241  241]\n",
            " [ 495 1066  241]\n",
            " [ 481  238  993]]\n",
            "              precision    recall  f1-score   support\n",
            "\n",
            "    COVID-19       0.59      0.75      0.66      1903\n",
            "   Non-COVID       0.69      0.59      0.64      1802\n",
            "      Normal       0.67      0.58      0.62      1712\n",
            "\n",
            "    accuracy                           0.64      5417\n",
            "   macro avg       0.65      0.64      0.64      5417\n",
            "weighted avg       0.65      0.64      0.64      5417\n",
            "\n",
            "AdaBoostClassifier\n",
            "0.5272290935942403\n",
            "0.5292159471205902\n",
            "0.5285321725874463\n",
            "0.5285420625781293\n",
            "0.7010755205532666\n",
            "[[ 972  523  408]\n",
            " [ 595  879  328]\n",
            " [ 432  275 1005]]\n",
            "              precision    recall  f1-score   support\n",
            "\n",
            "    COVID-19       0.49      0.51      0.50      1903\n",
            "   Non-COVID       0.52      0.49      0.51      1802\n",
            "      Normal       0.58      0.59      0.58      1712\n",
            "\n",
            "    accuracy                           0.53      5417\n",
            "   macro avg       0.53      0.53      0.53      5417\n",
            "weighted avg       0.53      0.53      0.53      5417\n",
            "\n",
            "GaussianNB\n",
            "0.6189772937050028\n",
            "0.6210544153644104\n",
            "0.6212771966060942\n",
            "0.6192746557815286\n",
            "0.7376086486497101\n",
            "[[1044  305  554]\n",
            " [ 375 1148  279]\n",
            " [ 297  254 1161]]\n",
            "              precision    recall  f1-score   support\n",
            "\n",
            "    COVID-19       0.61      0.55      0.58      1903\n",
            "   Non-COVID       0.67      0.64      0.65      1802\n",
            "      Normal       0.58      0.68      0.63      1712\n",
            "\n",
            "    accuracy                           0.62      5417\n",
            "   macro avg       0.62      0.62      0.62      5417\n",
            "weighted avg       0.62      0.62      0.62      5417\n",
            "\n"
          ]
        }
      ],
      "source": [
        "for i in l:\n",
        "    for j in i:\n",
        "        print(j)"
      ]
    },
    {
      "cell_type": "code",
      "execution_count": null,
      "metadata": {
        "id": "XmYM7qNhrueL"
      },
      "outputs": [],
      "source": []
    }
  ],
  "metadata": {
    "kernelspec": {
      "display_name": "Python 3 (ipykernel)",
      "language": "python",
      "name": "python3"
    },
    "language_info": {
      "codemirror_mode": {
        "name": "ipython",
        "version": 3
      },
      "file_extension": ".py",
      "mimetype": "text/x-python",
      "name": "python",
      "nbconvert_exporter": "python",
      "pygments_lexer": "ipython3",
      "version": "3.9.7"
    },
    "colab": {
      "provenance": []
    }
  },
  "nbformat": 4,
  "nbformat_minor": 0
}