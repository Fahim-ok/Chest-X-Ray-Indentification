{
  "cells": [
    {
      "cell_type": "markdown",
      "metadata": {
        "id": "-5Hs8eUmroZI"
      },
      "source": [
        "# Detecting COVID-19 and Viral Pneumonia with Chest X Ray and Lung Segmentation Mask using PyTorch By Fahm-Ul-Islam\n",
        "\n",
        "\n",
        "Image classification of Chest X Rays in one of 3 classes: Normal, COVID-19, Viral Pneumonia\n",
        "\n",
        "Dataset from [COVID-QU-Ex Dataset](https://www.kaggle.com/datasets/anasmohammedtahir/covidqu) on Kaggle"
      ]
    },
    {
      "cell_type": "markdown",
      "metadata": {
        "id": "LBSS7d0QroZL"
      },
      "source": [
        "# Importing Libraries"
      ]
    },
    {
      "cell_type": "markdown",
      "metadata": {
        "collapsed": false,
        "id": "OR5GN4ZeroZL"
      },
      "source": []
    },
    {
      "cell_type": "code",
      "execution_count": null,
      "metadata": {
        "ExecuteTime": {
          "end_time": "2023-07-22T12:37:57.259262600Z",
          "start_time": "2023-07-22T12:37:55.000984500Z"
        },
        "id": "cIlLryixroZL",
        "outputId": "1c9493c4-3fe0-4f9b-fd9c-fc8d97654f5e"
      },
      "outputs": [
        {
          "name": "stdout",
          "output_type": "stream",
          "text": [
            "Using PyTorch version 2.0.1\n",
            "GPU device index: 0\n",
            "11.8\n",
            "True\n",
            "True\n"
          ]
        }
      ],
      "source": [
        "\n",
        "from matplotlib import pyplot as plt\n",
        "from PIL import Image\n",
        "import torchvision\n",
        "import numpy as np\n",
        "import shutil\n",
        "import random\n",
        "import torch\n",
        "import torch.nn as nn\n",
        "\n",
        "import os\n",
        "from sklearn.metrics import confusion_matrix, classification_report\n",
        "import matplotlib.pyplot as plt\n",
        "\n",
        "%matplotlib inline\n",
        "\n",
        "torch.manual_seed(0)\n",
        "\n",
        "print('Using PyTorch version', torch.__version__)\n",
        "\n",
        "# to find the index of your GPU in PyTorch:\n",
        "if torch.cuda.is_available():\n",
        "    device = torch.device(\"cuda\")\n",
        "    print(f\"GPU device index: {torch.cuda.current_device()}\")\n",
        "else:\n",
        "    device = torch.device(\"cpu\")\n",
        "    print(\"No GPU available, using CPU instead.\")\n",
        "\n",
        "#To check if your PyTorch code has been built with GPU support, you can use the following code:\n",
        "\n",
        "print(torch.version.cuda)  # This will print the version of CUDA used by PyTorch\n",
        "print(torch.cuda.is_available())  # This will print whether PyTorch has access to a GPU\n",
        "print(torch.backends.cudnn.enabled)  # This will print whether the cuDNN library is enabled for GPU acceleration\n",
        "\n",
        "#For TensorFlow, you can use the following code to check if your code is using GPU:\n",
        "\n",
        "\n"
      ]
    },
    {
      "cell_type": "markdown",
      "metadata": {
        "id": "M6Z5iIN2roZN"
      },
      "source": [
        "# Preparing Training and Test Sets"
      ]
    },
    {
      "cell_type": "markdown",
      "metadata": {
        "id": "DRyY5lWVroZN"
      },
      "source": [
        "# Creating Custom Dataset"
      ]
    },
    {
      "cell_type": "code",
      "execution_count": null,
      "metadata": {
        "ExecuteTime": {
          "end_time": "2023-07-22T12:37:57.324585700Z",
          "start_time": "2023-07-22T12:37:57.295298100Z"
        },
        "id": "6ebVK6YzroZO"
      },
      "outputs": [],
      "source": [
        "class ChestXRayDataset(torch.utils.data.Dataset):\n",
        "    def __init__(self, image_dirs, transform):\n",
        "        def get_images(class_name): #Verificar se o aquivo realmente é imagem 'png'\n",
        "            images = [x for x in os.listdir(image_dirs[class_name]) if x.lower().endswith('png')]\n",
        "            print(f'Found {len(images)} {class_name} examples')\n",
        "            return images\n",
        "\n",
        "        self.images = {}\n",
        "        self.class_names = ['normal', 'covid', 'non-covid']\n",
        "\n",
        "        for c in self.class_names:\n",
        "            self.images[c] = get_images(c)\n",
        "\n",
        "        self.image_dirs = image_dirs\n",
        "        self.transform = transform\n",
        "\n",
        "    def __len__(self):\n",
        "        return sum([len(self.images[c]) for c in self.class_names])\n",
        "\n",
        "    def __getitem__(self, index):\n",
        "        class_name = random.choice(self.class_names)\n",
        "        index = index%len(self.images[class_name])\n",
        "        image_name = self.images[class_name][index]\n",
        "        image_path = os.path.join(self.image_dirs[class_name], image_name)\n",
        "        image = Image.open(image_path).convert('RGB')\n",
        "        return self.transform(image), self.class_names.index(class_name)"
      ]
    },
    {
      "cell_type": "markdown",
      "metadata": {
        "id": "pvuZxJxnroZO"
      },
      "source": [
        "# Image Transformations"
      ]
    },
    {
      "cell_type": "code",
      "execution_count": null,
      "metadata": {
        "ExecuteTime": {
          "end_time": "2023-07-22T12:37:57.324585700Z",
          "start_time": "2023-07-22T12:37:57.320080400Z"
        },
        "id": "BrI5AA3nroZO"
      },
      "outputs": [],
      "source": [
        "train_transform = torchvision.transforms.Compose([\n",
        "    torchvision.transforms.Resize(size=(224, 224)),\n",
        "    torchvision.transforms.RandomHorizontalFlip(),\n",
        "    torchvision.transforms.RandomVerticalFlip(),\n",
        "    torchvision.transforms.RandomRotation(30),\n",
        "    torchvision.transforms.ColorJitter(brightness=0.4, contrast=0.4, saturation=0.4, hue=0.1),\n",
        "    torchvision.transforms.ToTensor(),\n",
        "    torchvision.transforms.Normalize(mean=[0.485, 0.456, 0.406], std=[0.229, 0.224, 0.225])\n",
        "])"
      ]
    },
    {
      "cell_type": "code",
      "execution_count": null,
      "metadata": {
        "ExecuteTime": {
          "end_time": "2023-07-22T12:37:57.337601Z",
          "start_time": "2023-07-22T12:37:57.324585700Z"
        },
        "id": "72ExAWc9roZP"
      },
      "outputs": [],
      "source": [
        "val_transform = torchvision.transforms.Compose([\n",
        "    torchvision.transforms.Resize(size=(224, 224)),\n",
        "    torchvision.transforms.RandomHorizontalFlip(),\n",
        "    torchvision.transforms.RandomVerticalFlip(),\n",
        "    torchvision.transforms.RandomRotation(30),\n",
        "    torchvision.transforms.ColorJitter(brightness=0.4, contrast=0.4, saturation=0.4, hue=0.1),\n",
        "    torchvision.transforms.ToTensor(),\n",
        "    torchvision.transforms.Normalize(mean=[0.485, 0.456, 0.406], std=[0.229, 0.224, 0.225])\n",
        "])"
      ]
    },
    {
      "cell_type": "code",
      "execution_count": null,
      "metadata": {
        "ExecuteTime": {
          "end_time": "2023-07-22T12:37:57.367486400Z",
          "start_time": "2023-07-22T12:37:57.339603400Z"
        },
        "id": "AoNIhMv7roZP"
      },
      "outputs": [],
      "source": [
        "test_transform = torchvision.transforms.Compose([\n",
        "    torchvision.transforms.Resize(size=(224, 224)),\n",
        "    torchvision.transforms.RandomHorizontalFlip(),\n",
        "    torchvision.transforms.RandomVerticalFlip(),\n",
        "    torchvision.transforms.RandomRotation(30),\n",
        "    torchvision.transforms.ColorJitter(brightness=0.4, contrast=0.4, saturation=0.4, hue=0.1),\n",
        "    torchvision.transforms.ToTensor(),\n",
        "    torchvision.transforms.Normalize(mean=[0.485, 0.456, 0.406], std=[0.229, 0.224, 0.225])\n",
        "])"
      ]
    },
    {
      "cell_type": "markdown",
      "metadata": {
        "id": "YNc--7GlroZR"
      },
      "source": [
        "# Prepare DataLoader"
      ]
    },
    {
      "cell_type": "code",
      "execution_count": null,
      "metadata": {
        "ExecuteTime": {
          "end_time": "2023-07-22T12:37:57.369486200Z",
          "start_time": "2023-07-22T12:37:57.355486500Z"
        },
        "id": "iv8UXeajroZR"
      },
      "outputs": [],
      "source": [
        "train_dirs = {\n",
        "    'normal': 'C:/Users/shorb/PycharmProjects/thesis/COVID-QU-Ex dataset/Train/Normal/images',\n",
        "    'covid': 'C:/Users/shorb/PycharmProjects/thesis/COVID-QU-Ex dataset/Train/COVID-19/images',\n",
        "    'non-covid' : 'C:/Users/shorb/PycharmProjects/thesis/COVID-QU-Ex dataset/Train/Non-COVID/images'\n",
        "}"
      ]
    },
    {
      "cell_type": "code",
      "execution_count": null,
      "metadata": {
        "ExecuteTime": {
          "end_time": "2023-07-22T12:37:57.477683700Z",
          "start_time": "2023-07-22T12:37:57.370486600Z"
        },
        "id": "aNZyjMaZroZR",
        "outputId": "02508ccd-095e-4975-f2bb-fc0810975772"
      },
      "outputs": [
        {
          "name": "stdout",
          "output_type": "stream",
          "text": [
            "Found 6849 normal examples\n",
            "Found 7658 covid examples\n",
            "Found 7208 non-covid examples\n"
          ]
        }
      ],
      "source": [
        "train_dataset = ChestXRayDataset(train_dirs, train_transform)"
      ]
    },
    {
      "cell_type": "code",
      "execution_count": null,
      "metadata": {
        "ExecuteTime": {
          "end_time": "2023-07-22T12:37:57.524683300Z",
          "start_time": "2023-07-22T12:37:57.479683800Z"
        },
        "id": "YP9ywnoproZR"
      },
      "outputs": [],
      "source": [
        "test_dirs = {\n",
        "     'normal': 'C:/Users/shorb/PycharmProjects/thesis/COVID-QU-Ex dataset/Test/Normal/images',\n",
        "    'covid': 'C:/Users/shorb/PycharmProjects/thesis/COVID-QU-Ex dataset/Test/COVID-19/images',\n",
        "    'non-covid' : 'C:/Users/shorb/PycharmProjects/thesis/COVID-QU-Ex dataset/Test/Non-COVID/images'\n",
        "}"
      ]
    },
    {
      "cell_type": "code",
      "execution_count": null,
      "metadata": {
        "ExecuteTime": {
          "end_time": "2023-07-22T12:37:57.528684200Z",
          "start_time": "2023-07-22T12:37:57.494684200Z"
        },
        "id": "NL7gYYuGroZR",
        "outputId": "e008afc8-1887-45c5-87eb-1243d15f5a09"
      },
      "outputs": [
        {
          "name": "stdout",
          "output_type": "stream",
          "text": [
            "Found 2140 normal examples\n",
            "Found 2395 covid examples\n",
            "Found 2253 non-covid examples\n"
          ]
        }
      ],
      "source": [
        "test_dataset = ChestXRayDataset(test_dirs, test_transform)"
      ]
    },
    {
      "cell_type": "code",
      "execution_count": null,
      "metadata": {
        "ExecuteTime": {
          "end_time": "2023-07-22T12:37:57.528684200Z",
          "start_time": "2023-07-22T12:37:57.524683300Z"
        },
        "id": "zSwxemMKroZS"
      },
      "outputs": [],
      "source": [
        "val_dirs = {\n",
        " 'normal': 'C:/Users/shorb/PycharmProjects/thesis/COVID-QU-Ex dataset/Val/Normal/images',\n",
        "    'covid': 'C:/Users/shorb/PycharmProjects/thesis/COVID-QU-Ex dataset/Val/COVID-19/images',\n",
        "    'non-covid' : 'C:/Users/shorb/PycharmProjects/thesis/COVID-QU-Ex dataset/Val/Non-COVID/images'\n",
        "}"
      ]
    },
    {
      "cell_type": "code",
      "execution_count": null,
      "metadata": {
        "ExecuteTime": {
          "end_time": "2023-07-22T12:37:57.542683700Z",
          "start_time": "2023-07-22T12:37:57.527684500Z"
        },
        "id": "-nbIRULJroZS",
        "outputId": "c8df7a16-ff7f-4cd3-b1ec-a6daece705d4"
      },
      "outputs": [
        {
          "name": "stdout",
          "output_type": "stream",
          "text": [
            "Found 1712 normal examples\n",
            "Found 1903 covid examples\n",
            "Found 1802 non-covid examples\n"
          ]
        }
      ],
      "source": [
        "val_dataset = ChestXRayDataset(val_dirs, val_transform)"
      ]
    },
    {
      "cell_type": "code",
      "execution_count": null,
      "metadata": {
        "ExecuteTime": {
          "end_time": "2023-07-22T12:37:57.587683600Z",
          "start_time": "2023-07-22T12:37:57.542683700Z"
        },
        "id": "rvNYeN_ZroZS",
        "outputId": "7e3e6b3f-b7bb-4242-ff34-74125f7dfd2b"
      },
      "outputs": [
        {
          "name": "stdout",
          "output_type": "stream",
          "text": [
            "Number of training batches: 679\n",
            "Number of test batches: 213\n",
            "Number of test batches: 170\n"
          ]
        }
      ],
      "source": [
        "batch_size = 32\n",
        "\n",
        "\n",
        "dl_train = torch.utils.data.DataLoader(train_dataset, batch_size=batch_size, shuffle=True)\n",
        "dl_test = torch.utils.data.DataLoader(test_dataset, batch_size=batch_size, shuffle=True)\n",
        "dl_val = torch.utils.data.DataLoader(val_dataset, batch_size=batch_size, shuffle=True)\n",
        "\n",
        "\n",
        "print('Number of training batches:', len(dl_train))\n",
        "print('Number of test batches:', len(dl_test))\n",
        "print('Number of test batches:', len(dl_val))"
      ]
    },
    {
      "cell_type": "markdown",
      "metadata": {
        "id": "b82jZqkKroZS"
      },
      "source": [
        "# Creating the Model"
      ]
    },
    {
      "cell_type": "code",
      "execution_count": null,
      "metadata": {
        "ExecuteTime": {
          "end_time": "2023-07-22T12:37:58.851488600Z",
          "start_time": "2023-07-22T12:37:57.884685700Z"
        },
        "id": "8Fq4o2g8roZS",
        "outputId": "03ff1b52-8ef1-4db6-c506-756f871e5b73",
        "scrolled": false
      },
      "outputs": [
        {
          "name": "stderr",
          "output_type": "stream",
          "text": [
            "C:\\ProgramData\\anaconda3\\lib\\site-packages\\torchvision\\models\\_utils.py:208: UserWarning: The parameter 'pretrained' is deprecated since 0.13 and may be removed in the future, please use 'weights' instead.\n",
            "  warnings.warn(\n",
            "C:\\ProgramData\\anaconda3\\lib\\site-packages\\torchvision\\models\\_utils.py:223: UserWarning: Arguments other than a weight enum or `None` for 'weights' are deprecated since 0.13 and may be removed in the future. The current behavior is equivalent to passing `weights=VGG16_Weights.IMAGENET1K_V1`. You can also use `weights=VGG16_Weights.DEFAULT` to get the most up-to-date weights.\n",
            "  warnings.warn(msg)\n"
          ]
        },
        {
          "name": "stdout",
          "output_type": "stream",
          "text": [
            "VGG(\n",
            "  (features): Sequential(\n",
            "    (0): Conv2d(3, 64, kernel_size=(3, 3), stride=(1, 1), padding=(1, 1))\n",
            "    (1): ReLU(inplace=True)\n",
            "    (2): Conv2d(64, 64, kernel_size=(3, 3), stride=(1, 1), padding=(1, 1))\n",
            "    (3): ReLU(inplace=True)\n",
            "    (4): MaxPool2d(kernel_size=2, stride=2, padding=0, dilation=1, ceil_mode=False)\n",
            "    (5): Conv2d(64, 128, kernel_size=(3, 3), stride=(1, 1), padding=(1, 1))\n",
            "    (6): ReLU(inplace=True)\n",
            "    (7): Conv2d(128, 128, kernel_size=(3, 3), stride=(1, 1), padding=(1, 1))\n",
            "    (8): ReLU(inplace=True)\n",
            "    (9): MaxPool2d(kernel_size=2, stride=2, padding=0, dilation=1, ceil_mode=False)\n",
            "    (10): Conv2d(128, 256, kernel_size=(3, 3), stride=(1, 1), padding=(1, 1))\n",
            "    (11): ReLU(inplace=True)\n",
            "    (12): Conv2d(256, 256, kernel_size=(3, 3), stride=(1, 1), padding=(1, 1))\n",
            "    (13): ReLU(inplace=True)\n",
            "    (14): Conv2d(256, 256, kernel_size=(3, 3), stride=(1, 1), padding=(1, 1))\n",
            "    (15): ReLU(inplace=True)\n",
            "    (16): MaxPool2d(kernel_size=2, stride=2, padding=0, dilation=1, ceil_mode=False)\n",
            "    (17): Conv2d(256, 512, kernel_size=(3, 3), stride=(1, 1), padding=(1, 1))\n",
            "    (18): ReLU(inplace=True)\n",
            "    (19): Conv2d(512, 512, kernel_size=(3, 3), stride=(1, 1), padding=(1, 1))\n",
            "    (20): ReLU(inplace=True)\n",
            "    (21): Conv2d(512, 512, kernel_size=(3, 3), stride=(1, 1), padding=(1, 1))\n",
            "    (22): ReLU(inplace=True)\n",
            "    (23): MaxPool2d(kernel_size=2, stride=2, padding=0, dilation=1, ceil_mode=False)\n",
            "    (24): Conv2d(512, 512, kernel_size=(3, 3), stride=(1, 1), padding=(1, 1))\n",
            "    (25): ReLU(inplace=True)\n",
            "    (26): Conv2d(512, 512, kernel_size=(3, 3), stride=(1, 1), padding=(1, 1))\n",
            "    (27): ReLU(inplace=True)\n",
            "    (28): Conv2d(512, 512, kernel_size=(3, 3), stride=(1, 1), padding=(1, 1))\n",
            "    (29): ReLU(inplace=True)\n",
            "    (30): MaxPool2d(kernel_size=2, stride=2, padding=0, dilation=1, ceil_mode=False)\n",
            "  )\n",
            "  (avgpool): AdaptiveAvgPool2d(output_size=(7, 7))\n",
            "  (classifier): Sequential(\n",
            "    (0): Linear(in_features=25088, out_features=4096, bias=True)\n",
            "    (1): ReLU(inplace=True)\n",
            "    (2): Dropout(p=0.5, inplace=False)\n",
            "    (3): Linear(in_features=4096, out_features=4096, bias=True)\n",
            "    (4): ReLU(inplace=True)\n",
            "    (5): Dropout(p=0.5, inplace=False)\n",
            "    (6): Linear(in_features=4096, out_features=1000, bias=True)\n",
            "  )\n",
            ")\n"
          ]
        }
      ],
      "source": [
        "vgg16 = torchvision.models.vgg16(pretrained = True)\n",
        "\n",
        "\n",
        "\n",
        "print(vgg16)\n",
        "\n",
        "\n"
      ]
    },
    {
      "cell_type": "code",
      "execution_count": null,
      "metadata": {
        "ExecuteTime": {
          "end_time": "2023-07-22T12:38:00.032946800Z",
          "start_time": "2023-07-22T12:37:58.857367100Z"
        },
        "id": "f5-DqtSGroZS",
        "outputId": "7c90d844-8cdd-4eb1-965c-58b793348826"
      },
      "outputs": [
        {
          "name": "stdout",
          "output_type": "stream",
          "text": [
            "+---------+--------------+---------------+----------------+------------------------+-------------------------+\n",
            "|   Layer | Layer Type   | Input Shape   | Output Shape   |   Number of Parameters | Additional Parameters   |\n",
            "+=========+==============+===============+================+========================+=========================+\n",
            "|       1 | Sequential   | -             | -              |              102764544 |                         |\n",
            "+---------+--------------+---------------+----------------+------------------------+-------------------------+\n",
            "|       2 | ReLU         | -             | -              |                      0 |                         |\n",
            "+---------+--------------+---------------+----------------+------------------------+-------------------------+\n",
            "|       3 | Dropout      | -             | -              |                      0 | p=0.5                   |\n",
            "+---------+--------------+---------------+----------------+------------------------+-------------------------+\n",
            "|       4 | Linear       | (4096)        | (4096)         |               16781312 |                         |\n",
            "+---------+--------------+---------------+----------------+------------------------+-------------------------+\n",
            "|       5 | ReLU         | -             | -              |                      0 |                         |\n",
            "+---------+--------------+---------------+----------------+------------------------+-------------------------+\n",
            "|       6 | Dropout      | -             | -              |                      0 | p=0.5                   |\n",
            "+---------+--------------+---------------+----------------+------------------------+-------------------------+\n",
            "|       7 | Linear       | (4096)        | (3)            |                  12291 |                         |\n",
            "+---------+--------------+---------------+----------------+------------------------+-------------------------+\n",
            "\n",
            "+------------------------+-------------+\n",
            "| Total Parameters       | 134,272,835 |\n",
            "+------------------------+-------------+\n",
            "| Trained Parameters     | 134,272,835 |\n",
            "+------------------------+-------------+\n",
            "| Non-Trained Parameters | 0           |\n",
            "+------------------------+-------------+\n"
          ]
        }
      ],
      "source": [
        "from tabulate import tabulate\n",
        "\n",
        "vgg16 = torchvision.models.vgg16(pretrained = True)\n",
        "# Replace the last fully connected layer to have 3 output features\n",
        "num_features = vgg16.classifier[-1].in_features\n",
        "vgg16.classifier[-1] = nn.Linear(num_features, 3)\n",
        "\n",
        "# Add dropout layer after the first fully connected layer\n",
        "vgg16.classifier[0] = nn.Sequential(\n",
        "    nn.Linear(25088, 4096),\n",
        "    nn.ReLU(inplace=True),\n",
        "    nn.Dropout(p=0.8),\n",
        ")\n",
        "\n",
        "# Set loss function and optimizer\n",
        "loss_fn = torch.nn.CrossEntropyLoss()\n",
        "optimizer = torch.optim.Adam(vgg16.parameters(), lr = 0.45e-5)\n",
        "\n",
        "\n",
        "# Create a table to store layer details\n",
        "table = []\n",
        "for i, module in enumerate(vgg16.classifier):\n",
        "    layer_name = module.__class__.__name__\n",
        "    input_shape = f\"({module.in_features})\" if hasattr(module, 'in_features') else \"-\"\n",
        "    output_shape = f\"({module.out_features})\" if hasattr(module, 'out_features') else \"-\"\n",
        "    num_params = sum(p.numel() for p in module.parameters() if p.requires_grad)\n",
        "\n",
        "    # Get additional parameters for specific layers\n",
        "    extra_params = \"\"\n",
        "    if isinstance(module, torch.nn.Dropout):\n",
        "        extra_params = f\"p={module.p}\"\n",
        "    elif isinstance(module, torch.nn.ReLU):\n",
        "        extra_params = \"\"\n",
        "\n",
        "    table.append([i+1, layer_name, input_shape, output_shape, num_params, extra_params])\n",
        "\n",
        "# Print the table\n",
        "headers = [\"Layer\", \"Layer Type\", \"Input Shape\", \"Output Shape\", \"Number of Parameters\", \"Additional Parameters\"]\n",
        "print(tabulate(table, headers=headers, tablefmt=\"grid\"))\n",
        "\n",
        "# Calculate the total parameters, trained parameters, and non-trained parameters\n",
        "total_params = sum(p.numel() for p in vgg16.parameters())\n",
        "trained_params = sum(p.numel() for p in vgg16.parameters() if p.requires_grad)\n",
        "non_trained_params = total_params - trained_params\n",
        "\n",
        "# Print the parameter information\n",
        "param_info = [\n",
        "    [\"Total Parameters\", \"{:,}\".format(total_params)],\n",
        "    [\"Trained Parameters\", \"{:,}\".format(trained_params)],\n",
        "    [\"Non-Trained Parameters\", \"{:,}\".format(non_trained_params)]\n",
        "]\n",
        "print()\n",
        "print(tabulate(param_info, tablefmt=\"grid\"))\n",
        "\n"
      ]
    },
    {
      "cell_type": "code",
      "execution_count": null,
      "metadata": {
        "ExecuteTime": {
          "end_time": "2023-07-22T12:38:00.084600600Z",
          "start_time": "2023-07-22T12:38:00.049740900Z"
        },
        "id": "pJDb1y1GroZT"
      },
      "outputs": [],
      "source": []
    },
    {
      "cell_type": "markdown",
      "metadata": {
        "id": "aJbmX3BSroZT"
      },
      "source": [
        "# Training the Model"
      ]
    },
    {
      "cell_type": "code",
      "execution_count": null,
      "metadata": {
        "ExecuteTime": {
          "end_time": "2023-07-22T12:38:00.095600100Z",
          "start_time": "2023-07-22T12:38:00.087600100Z"
        },
        "id": "sqbLLWdZroZT"
      },
      "outputs": [],
      "source": [
        "import torch.backends.cudnn as cudnn\n",
        "\n",
        "def train(epochs):\n",
        "    print('Starting training..')\n",
        "\n",
        "    # Check if GPU is available\n",
        "    if torch.cuda.is_available():\n",
        "        device = torch.device('cuda')\n",
        "        print('Using GPU:', torch.cuda.get_device_name())\n",
        "    else:\n",
        "        device = torch.device('cpu')\n",
        "        print('GPU not available, using CPU..')\n",
        "\n",
        "    # Move model to device\n",
        "    vgg16.to(device)\n",
        "\n",
        "    train_losses = []\n",
        "    train_accs = []\n",
        "    val_losses = []\n",
        "    val_accs = []\n",
        "\n",
        "    # Enable cuDNN benchmark mode\n",
        "    torch.backends.cudnn.benchmark = True\n",
        "\n",
        "    for e in range(0, epochs):\n",
        "        print('='*20)\n",
        "        print(f'Starting epoch {e + 1}/{epochs}')\n",
        "        print('='*20)\n",
        "\n",
        "        train_loss = 0.0\n",
        "        val_loss = 0.0\n",
        "        train_acc = 0.0\n",
        "        val_acc = 0.0\n",
        "\n",
        "        # Set model to training phase\n",
        "        vgg16.train()\n",
        "\n",
        "        for train_step, (images, labels) in enumerate(dl_train):\n",
        "            # Move data to device\n",
        "            images = images.to(device)\n",
        "            labels = labels.to(device)\n",
        "\n",
        "            optimizer.zero_grad()\n",
        "            outputs = vgg16(images)\n",
        "            loss = loss_fn(outputs, labels)\n",
        "            loss.backward()\n",
        "            optimizer.step()\n",
        "\n",
        "            train_loss += loss.item()\n",
        "            _, preds = torch.max(outputs, 1)\n",
        "            train_acc += torch.sum(preds == labels.data).item()\n",
        "\n",
        "        train_loss /= (train_step + 1)\n",
        "        train_acc /= len(dl_train.dataset)\n",
        "\n",
        "        print(f'Training Loss: {train_loss:.4f}, Accuracy: {train_acc:.4f}')\n",
        "\n",
        "        train_losses.append(train_loss)\n",
        "        train_accs.append(train_acc)\n",
        "\n",
        "        # Set model to evaluation phase\n",
        "        vgg16.eval()\n",
        "        with torch.no_grad():\n",
        "            for val_step, (images, labels) in enumerate(dl_val):\n",
        "                # Move data to device\n",
        "                images = images.to(device)\n",
        "                labels = labels.to(device)\n",
        "\n",
        "                outputs = vgg16(images)\n",
        "                loss = loss_fn(outputs, labels)\n",
        "                val_loss += loss.item()\n",
        "\n",
        "                _, preds = torch.max(outputs, 1)\n",
        "                val_acc += torch.sum(preds == labels.data).item()\n",
        "\n",
        "            val_loss /= (val_step + 1)\n",
        "            val_acc /= len(dl_val.dataset)\n",
        "\n",
        "            print(f'Validation Loss: {val_loss:.4f}, Accuracy: {val_acc:.4f}')\n",
        "\n",
        "            val_losses.append(val_loss)\n",
        "            val_accs.append(val_acc)\n",
        "\n",
        "    # Save the trained model\n",
        "    save_path = r\"C:\\Users\\shorb\\PycharmProjects\\thesis\\metric\\Models\\Vgg16.pth\"\n",
        "    torch.save(vgg16.state_dict(), save_path)\n",
        "\n",
        "    print('Training complete..')\n"
      ]
    },
    {
      "cell_type": "code",
      "execution_count": null,
      "metadata": {
        "ExecuteTime": {
          "end_time": "2023-07-22T12:38:00.124600300Z",
          "start_time": "2023-07-22T12:38:00.096602400Z"
        },
        "id": "1sGtVHvLroZT",
        "scrolled": false
      },
      "outputs": [],
      "source": [
        "# %%time\n",
        "# train(epochs=50)\n"
      ]
    },
    {
      "cell_type": "markdown",
      "metadata": {
        "id": "mPxV1iUeroZT"
      },
      "source": [
        "# Final Results"
      ]
    },
    {
      "cell_type": "code",
      "execution_count": null,
      "metadata": {
        "ExecuteTime": {
          "end_time": "2023-07-22T12:38:00.143600400Z",
          "start_time": "2023-07-22T12:38:00.136603100Z"
        },
        "id": "VLkHO0SwroZT"
      },
      "outputs": [],
      "source": [
        "import matplotlib.pyplot as plt\n",
        "import seaborn as sns\n",
        "from sklearn.metrics import classification_report, confusion_matrix, roc_curve, auc\n",
        "import torch\n",
        "import re\n",
        "\n",
        "\n",
        "def evaluate_model(model_path, epochs):\n",
        "    # Load the saved model\n",
        "    state_dict = torch.load(model_path)\n",
        "    model = vgg16\n",
        "    model.load_state_dict(state_dict)\n",
        "\n",
        "    # Move model to device\n",
        "    device = torch.device('cuda' if torch.cuda.is_available() else 'cpu')\n",
        "    model.to(device)\n",
        "\n",
        "    # Load the test data\n",
        "    test_loader = dl_val  # Load your test dataset using a DataLoader object\n",
        "\n",
        "    # Set model to evaluation mode\n",
        "    model.eval()\n",
        "\n",
        "    # Get the predictions and true labels for the test set\n",
        "    test_preds = []\n",
        "    test_labels = []\n",
        "    test_scores = []\n",
        "    with torch.no_grad():\n",
        "        for images, labels in test_loader:\n",
        "            images, labels = images.to(device), labels.to(device)\n",
        "            outputs = model(images)\n",
        "            _, preds = torch.max(outputs.data, 1)\n",
        "            test_preds += preds.tolist()\n",
        "            test_labels += labels.tolist()\n",
        "            test_scores += torch.softmax(outputs, dim=1).tolist()\n",
        "\n",
        "    # Generate the confusion matrix and classification report\n",
        "    cm = confusion_matrix(test_labels, test_preds)\n",
        "    class_names = ['normal', 'COVID-19', 'Pneumonia']\n",
        "    cr = classification_report(test_labels, test_preds, target_names=class_names)\n",
        "\n",
        "    # Calculate the false positive rate, true positive rate, and threshold for each class\n",
        "    fpr = dict()\n",
        "    tpr = dict()\n",
        "    roc_auc = dict()\n",
        "    for i, class_name in enumerate(class_names):\n",
        "        label_i = [1 if label == i else 0 for label in test_labels]\n",
        "        pred_i = [score[i] for score in test_scores]\n",
        "        fpr[i], tpr[i], _ = roc_curve(label_i, pred_i)\n",
        "        roc_auc[i] = auc(fpr[i], tpr[i])\n",
        "\n",
        "    # Plot the ROC curves\n",
        "    plt.figure(figsize=(10, 8))\n",
        "    lw = 2\n",
        "    colors = ['blue', 'red', 'green']\n",
        "    class_names = ['Normal', 'COVID-19', 'Pneumonia']\n",
        "    for i, color in zip(range(len(class_names)), colors):\n",
        "        plt.plot(fpr[i], tpr[i], color=color, lw=lw, label='ROC curve for {} (area = {:0.2f})'.format(class_names[i], roc_auc[i]))\n",
        "\n",
        "    plt.plot([0, 1], [0, 1], color='black', lw=lw, linestyle='--')\n",
        "    plt.xlim([0.0, 1.0])\n",
        "    plt.ylim([0.0, 1.05])\n",
        "    plt.xlabel('False Positive Rate')\n",
        "    plt.ylabel('True Positive Rate')\n",
        "    plt.title('Receiver Operating Characteristic (ROC) Curve')\n",
        "    plt.legend(loc=\"lower right\")\n",
        "    plt.savefig('roc_curve.png', dpi=300)\n",
        "    plt.show()\n",
        "\n",
        "    # Plot the confusion matrix heatmap\n",
        "    plt.figure(figsize=(10, 8))\n",
        "    ax = plt.gca()\n",
        "    sns.set(font_scale=1.4)\n",
        "    sns.heatmap(cm, annot=True, cmap='Blues', fmt='g', xticklabels=class_names, yticklabels=class_names, ax=ax)\n",
        "    ax.set_xlabel('Predicted')\n",
        "    ax.set_ylabel('Actual')\n",
        "    ax.set_title('Confusion Matrix')\n",
        "    plt.savefig('confusion_matrix.png', dpi=300)\n",
        "    plt.show()\n",
        "\n",
        "    # Print the classification report\n",
        "    print('Classification Report:\\n', cr)\n"
      ]
    },
    {
      "cell_type": "code",
      "execution_count": null,
      "metadata": {
        "ExecuteTime": {
          "end_time": "2023-07-22T12:38:50.871762Z",
          "start_time": "2023-07-22T12:38:00.145602600Z"
        },
        "id": "TKyKqM7TroZT",
        "outputId": "e06c2252-b458-4b41-acd7-d5c61e5bcc33"
      },
      "outputs": [
        {
          "data": {
            "image/png": "[encoded data removed]",
            "text/plain": [
              "<Figure size 1000x800 with 1 Axes>"
            ]
          },
          "metadata": {},
          "output_type": "display_data"
        },
        {
          "data": {
            "image/png": "[encoded data removed]",
            "text/plain": [
              "<Figure size 1000x800 with 2 Axes>"
            ]
          },
          "metadata": {},
          "output_type": "display_data"
        },
        {
          "name": "stdout",
          "output_type": "stream",
          "text": [
            "Classification Report:\n",
            "               precision    recall  f1-score   support\n",
            "\n",
            "      normal       0.92      0.89      0.91      1824\n",
            "    COVID-19       0.98      0.96      0.97      1806\n",
            "   Pneumonia       0.89      0.94      0.91      1787\n",
            "\n",
            "    accuracy                           0.93      5417\n",
            "   macro avg       0.93      0.93      0.93      5417\n",
            "weighted avg       0.93      0.93      0.93      5417\n",
            "\n"
          ]
        }
      ],
      "source": [
        "model_path = r\"C:\\Users\\shorb\\PycharmProjects\\thesis\\metric\\Models\\Shoms_Models\\Vgg16.pth\"\n",
        "evaluate_model(model_path, 100)"
      ]
    },
    {
      "cell_type": "code",
      "execution_count": null,
      "metadata": {
        "ExecuteTime": {
          "end_time": "2023-07-22T12:38:50.960775700Z",
          "start_time": "2023-07-22T12:38:50.877757600Z"
        },
        "id": "D5_It8K5roZU"
      },
      "outputs": [],
      "source": []
    }
  ],
  "metadata": {
    "colab": {
      "provenance": []
    },
    "kernelspec": {
      "display_name": "Python 3",
      "language": "python",
      "name": "python3"
    },
    "language_info": {
      "codemirror_mode": {
        "name": "ipython",
        "version": 3
      },
      "file_extension": ".py",
      "mimetype": "text/x-python",
      "name": "python",
      "nbconvert_exporter": "python",
      "pygments_lexer": "ipython3",
      "version": "3.8.3"
    }
  },
  "nbformat": 4,
  "nbformat_minor": 0
}
